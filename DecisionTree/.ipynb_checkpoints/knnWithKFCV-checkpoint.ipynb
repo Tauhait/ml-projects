{
 "cells": [
  {
   "cell_type": "markdown",
   "metadata": {},
   "source": [
    "## Classification using kNN"
   ]
  },
  {
   "cell_type": "markdown",
   "metadata": {},
   "source": [
    "**Import the required libraries**"
   ]
  },
  {
   "cell_type": "code",
   "execution_count": 1,
   "metadata": {},
   "outputs": [],
   "source": [
    "import re\n",
    "import math\n",
    "import numpy as np\n",
    "import pandas as pd\n",
    "import string\n",
    "import scipy as sp\n",
    "import nltk\n",
    "import time\n",
    "import operator\n",
    "from random import randrange\n",
    "from sklearn import preprocessing\n",
    "\n",
    "import warnings\n",
    "warnings.filterwarnings('ignore')"
   ]
  },
  {
   "cell_type": "markdown",
   "metadata": {},
   "source": [
    "**The following cell contains a class of methods to calculate distance between two points using various techniques**"
   ]
  },
  {
   "cell_type": "markdown",
   "metadata": {},
   "source": [
    "**Formula to calculate Eucledian distance:**\n",
    "\n",
    "<math>\\begin{align}D(x, y) = \\sqrt{ \\sum_i (x_i - y_i) ^ 2 }\\end{align}</math>"
   ]
  },
  {
   "cell_type": "markdown",
   "metadata": {},
   "source": [
    "**Formula to calculate Manhattan Distance:**\n",
    "\n",
    "<math>\\begin{align}D(x, y) = \\sum_i |x_i - y_i|\\end{align}</math>"
   ]
  },
  {
   "cell_type": "markdown",
   "metadata": {},
   "source": [
    "**Formula to calculate Hamming Distance:**\n",
    "\n",
    "<math>\\begin{align}D(x, y) = \\frac{1}{N} \\sum_i \\delta_{x_i, y_i}\\end{align}</math>"
   ]
  },
  {
   "cell_type": "code",
   "execution_count": 2,
   "metadata": {},
   "outputs": [],
   "source": [
    "class distanceMetrics:\n",
    "    '''\n",
    "    Description:\n",
    "        This class contains methods to calculate various distance metrics\n",
    "    '''\n",
    "    def __init__(self):\n",
    "        '''\n",
    "        Description:\n",
    "            Initialization/Constructor function\n",
    "        '''\n",
    "        pass\n",
    "        \n",
    "    def euclideanDistance(self, vector1, vector2):\n",
    "        '''\n",
    "        Description:\n",
    "            Function to calculate Euclidean Distance\n",
    "                \n",
    "        Inputs:\n",
    "            vector1, vector2: input vectors for which the distance is to be calculated\n",
    "        Output:\n",
    "            Calculated euclidean distance of two vectors\n",
    "        '''\n",
    "        self.vectorA, self.vectorB = vector1, vector2\n",
    "        if len(self.vectorA) != len(self.vectorB):\n",
    "            raise ValueError(\"Undefined for sequences of unequal length.\")\n",
    "        distance = 0.0\n",
    "        for i in range(len(self.vectorA)-1):\n",
    "            distance += (self.vectorA[i] - self.vectorB[i])**2\n",
    "        return (distance)**0.5\n",
    "    \n",
    "    def manhattanDistance(self, vector1, vector2):\n",
    "        \"\"\"\n",
    "        Desription:\n",
    "            Takes 2 vectors a, b and returns the manhattan distance\n",
    "        Inputs:\n",
    "            vector1, vector2: two vectors for which the distance is to be calculated\n",
    "        Output:\n",
    "            Manhattan Distance of two input vectors\n",
    "        \"\"\"\n",
    "        self.vectorA, self.vectorB = vector1, vector2\n",
    "        if len(self.vectorA) != len(self.vectorB):\n",
    "            raise ValueError(\"Undefined for sequences of unequal length.\")\n",
    "        return np.abs(np.array(self.vectorA) - np.array(self.vectorB)).sum()\n",
    "    \n",
    "    def hammingDistance(self, vector1, vector2):\n",
    "        \"\"\"\n",
    "        Desription:\n",
    "            Takes 2 vectors a, b and returns the hamming distance\n",
    "            Hamming distance is meant for discrete-valued vectors, though it is a \n",
    "            valid metric for real-valued vectors.\n",
    "        Inputs:\n",
    "            vector1, vector2: two vectors for which the distance is to be calculated\n",
    "        Output:\n",
    "           Hamming Distance of two input vectors \n",
    "        \"\"\"\n",
    "        self.vectorA, self.vectorB = vector1, vector2\n",
    "        if len(self.vectorA) != len(self.vectorB):\n",
    "            raise ValueError(\"Undefined for sequences of unequal length.\")\n",
    "        return sum(el1 != el2 for el1, el2 in zip(self.vectorA, self.vectorB))\n"
   ]
  },
  {
   "cell_type": "code",
   "execution_count": 3,
   "metadata": {},
   "outputs": [],
   "source": [
    "class kNNClassifier:\n",
    "    '''\n",
    "    Description:\n",
    "        This class contains the functions to calculate distances\n",
    "    '''\n",
    "    def __init__(self,k = 3, distanceMetric = 'euclidean'):\n",
    "        '''\n",
    "        Description:\n",
    "            KNearestNeighbors constructor\n",
    "        Input    \n",
    "            k: total of neighbors. Defaulted to 3\n",
    "            distanceMetric: type of distance metric to be used. Defaulted to euclidean distance.\n",
    "        '''\n",
    "        pass\n",
    "    \n",
    "    def fit(self, xTrain, yTrain):\n",
    "        '''\n",
    "        Description:\n",
    "            Train kNN model with x data\n",
    "        Input:\n",
    "            xTrain: training data with coordinates\n",
    "            yTrain: labels of training data set\n",
    "        Output:\n",
    "            None\n",
    "        '''\n",
    "        assert len(xTrain) == len(yTrain)\n",
    "        self.trainData = xTrain\n",
    "        self.trainLabels = yTrain\n",
    "\n",
    "    def getNeighbors(self, testRow):\n",
    "        '''\n",
    "        Description:\n",
    "            Train kNN model with x data\n",
    "        Input:\n",
    "            testRow: testing data with coordinates\n",
    "        Output:\n",
    "            k-nearest neighbors to the test data\n",
    "        '''\n",
    "        \n",
    "        calcDM = distanceMetrics()\n",
    "        distances = []\n",
    "        for i, trainRow in enumerate(self.trainData):\n",
    "            if self.distanceMetric == 'euclidean':\n",
    "                distances.append([trainRow, calcDM.euclideanDistance(testRow, trainRow), self.trainLabels[i]])\n",
    "            elif self.distanceMetric == 'manhattan':\n",
    "                distances.append([trainRow, calcDM.manhattanDistance(testRow, trainRow), self.trainLabels[i]])\n",
    "            elif self.distanceMetric == 'hamming':\n",
    "                distances.append([trainRow, calcDM.hammingDistance(testRow, trainRow), self.trainLabels[i]])\n",
    "            distances.sort(key=operator.itemgetter(1))\n",
    "\n",
    "        neighbors = []\n",
    "        for index in range(self.k):\n",
    "            neighbors.append(distances[index])\n",
    "        return neighbors\n",
    "        \n",
    "    def predict(self, xTest, k, distanceMetric):\n",
    "        '''\n",
    "        Description:\n",
    "            Apply kNN model on test data\n",
    "        Input:\n",
    "            xTest: testing data with coordinates\n",
    "            k: number of neighbors\n",
    "            distanceMetric: technique to calculate distance metric\n",
    "        Output:\n",
    "            predicted label \n",
    "        '''\n",
    "        self.testData = xTest\n",
    "        self.k = k\n",
    "        self.distanceMetric = distanceMetric\n",
    "        predictions = []\n",
    "        \n",
    "        for i, testCase in enumerate(self.testData):\n",
    "            neighbors = self.getNeighbors(testCase)\n",
    "            output= [row[-1] for row in neighbors]\n",
    "            prediction = max(set(output), key=output.count)\n",
    "            predictions.append(prediction)\n",
    "        \n",
    "        return predictions"
   ]
  },
  {
   "cell_type": "code",
   "execution_count": 4,
   "metadata": {},
   "outputs": [],
   "source": [
    "def printMetrics(actual, predictions):\n",
    "    '''\n",
    "    Description:\n",
    "        This method calculates the accuracy of predictions\n",
    "    '''\n",
    "    assert len(actual) == len(predictions)\n",
    "    correct = 0\n",
    "    for i in range(len(actual)):\n",
    "        if actual[i] == predictions[i]:\n",
    "            correct += 1\n",
    "    return (correct / float(len(actual)) * 100.0)"
   ]
  },
  {
   "cell_type": "code",
   "execution_count": 5,
   "metadata": {},
   "outputs": [],
   "source": [
    "class kFoldCV:\n",
    "    '''\n",
    "    This class is to perform k-Fold Cross validation on a given dataset\n",
    "    '''\n",
    "    def __init__(self):\n",
    "        pass\n",
    "    \n",
    "    def crossValSplit(self, dataset, numFolds):\n",
    "        '''\n",
    "        Description:\n",
    "            Function to split the data into number of folds specified\n",
    "        Input:\n",
    "            dataset: data that is to be split\n",
    "            numFolds: integer - number of folds into which the data is to be split\n",
    "        Output:\n",
    "            split data\n",
    "        '''\n",
    "        dataSplit = list()\n",
    "        dataCopy = list(dataset)\n",
    "        foldSize = int(len(dataset) / numFolds)\n",
    "        for _ in range(numFolds):\n",
    "            fold = list()\n",
    "            while len(fold) < foldSize:\n",
    "                index = randrange(len(dataCopy))\n",
    "                fold.append(dataCopy.pop(index))\n",
    "            dataSplit.append(fold)\n",
    "        return dataSplit\n",
    "    \n",
    "    \n",
    "    def kFCVEvaluate(self, dataset, numFolds, *args):\n",
    "        '''\n",
    "        Description:\n",
    "            Driver function for k-Fold cross validation \n",
    "        '''\n",
    "        knn = kNNClassifier()\n",
    "        folds = self.crossValSplit(dataset, numFolds)\n",
    "        scores = list()\n",
    "        for fold in folds:\n",
    "            trainSet = list(folds)\n",
    "            trainSet.remove(fold)\n",
    "            trainSet = sum(trainSet, [])\n",
    "            testSet = list()\n",
    "            for row in fold:\n",
    "                rowCopy = list(row)\n",
    "                testSet.append(rowCopy)\n",
    "                \n",
    "            trainLabels = [row[-1] for row in trainSet]\n",
    "            trainSet = [train[:-1] for train in trainSet]\n",
    "            knn.fit(trainSet,trainLabels)\n",
    "            \n",
    "            actual = [row[-1] for row in testSet]\n",
    "            testSet = [test[:-1] for test in testSet]\n",
    "            \n",
    "            predicted = knn.predict(testSet, *args)\n",
    "            \n",
    "            accuracy = printMetrics(actual, predicted)\n",
    "            scores.append(accuracy)\n",
    "\n",
    "        print('*'*20)\n",
    "        print('Scores: %s' % scores)\n",
    "        print('*'*20)        \n",
    "        print('\\nMaximum Accuracy: %3f%%' % max(scores))\n",
    "        print('\\nMean Accuracy: %.3f%%' % (sum(scores)/float(len(scores))))"
   ]
  },
  {
   "cell_type": "code",
   "execution_count": 6,
   "metadata": {},
   "outputs": [],
   "source": [
    "def readData(fileName):\n",
    "    '''\n",
    "    Description:\n",
    "        This method is to read the data from a given file\n",
    "    '''\n",
    "    data = []\n",
    "    labels = []\n",
    "\n",
    "    with open(fileName, \"r\") as file:\n",
    "        lines = file.readlines() \n",
    "    for line in lines:\n",
    "        splitline = line.strip().split(',')\n",
    "        data.append(splitline)\n",
    "        labels.append(splitline[-1])\n",
    "    return data, labels"
   ]
  },
  {
   "cell_type": "markdown",
   "metadata": {},
   "source": [
    "### Hayes-Roth Data"
   ]
  },
  {
   "cell_type": "code",
   "execution_count": 7,
   "metadata": {},
   "outputs": [],
   "source": [
    "trainFile = 'Datasets/HayesRoth/hayes-roth.data'\n",
    "\n",
    "trainData, trainLabel = readData(trainFile)\n",
    "\n",
    "trainFeatures = []\n",
    "for row in trainData:\n",
    "    index = row[1:]\n",
    "    temp = [int(item) for item in index]\n",
    "    trainFeatures.append(temp)\n",
    "    \n",
    "trainLabels = [int(label) for label in trainLabel]"
   ]
  },
  {
   "cell_type": "markdown",
   "metadata": {},
   "source": [
    "**Create an object for k-Fold cross validation class**"
   ]
  },
  {
   "cell_type": "code",
   "execution_count": 8,
   "metadata": {},
   "outputs": [],
   "source": [
    "kfcv = kFoldCV()"
   ]
  },
  {
   "cell_type": "markdown",
   "metadata": {},
   "source": [
    "**Call the Evaluation function of kFCV class**\n",
    "\n",
    "*kfcv.kFCVEvaluate(data, foldCount, neighborCount, distanceMetric)*"
   ]
  },
  {
   "cell_type": "code",
   "execution_count": 9,
   "metadata": {},
   "outputs": [
    {
     "name": "stdout",
     "output_type": "stream",
     "text": [
      "********************\n",
      "Scores: [76.92307692307693, 46.15384615384615, 61.53846153846154, 53.84615384615385, 69.23076923076923, 53.84615384615385, 53.84615384615385, 46.15384615384615, 84.61538461538461, 53.84615384615385]\n",
      "********************\n",
      "\n",
      "Maximum Accuracy: 84.615385%\n",
      "\n",
      "Mean Accuracy: 60.000%\n"
     ]
    }
   ],
   "source": [
    "kfcv.kFCVEvaluate(trainFeatures, 10, 3, 'euclidean')"
   ]
  },
  {
   "cell_type": "code",
   "execution_count": 10,
   "metadata": {},
   "outputs": [
    {
     "name": "stdout",
     "output_type": "stream",
     "text": [
      "********************\n",
      "Scores: [69.23076923076923, 84.61538461538461, 76.92307692307693, 69.23076923076923, 76.92307692307693, 46.15384615384615, 46.15384615384615, 69.23076923076923, 76.92307692307693, 53.84615384615385]\n",
      "********************\n",
      "\n",
      "Maximum Accuracy: 84.615385%\n",
      "\n",
      "Mean Accuracy: 66.923%\n"
     ]
    }
   ],
   "source": [
    "kfcv.kFCVEvaluate(trainFeatures, 10, 3, 'manhattan')"
   ]
  },
  {
   "cell_type": "code",
   "execution_count": 11,
   "metadata": {},
   "outputs": [
    {
     "name": "stdout",
     "output_type": "stream",
     "text": [
      "********************\n",
      "Scores: [30.76923076923077, 84.61538461538461, 61.53846153846154, 76.92307692307693, 61.53846153846154, 46.15384615384615, 69.23076923076923, 46.15384615384615, 61.53846153846154, 61.53846153846154]\n",
      "********************\n",
      "\n",
      "Maximum Accuracy: 84.615385%\n",
      "\n",
      "Mean Accuracy: 60.000%\n"
     ]
    }
   ],
   "source": [
    "kfcv.kFCVEvaluate(trainFeatures, 10, 3, 'hamming')"
   ]
  },
  {
   "cell_type": "markdown",
   "metadata": {},
   "source": [
    "### Car Evaluation Data"
   ]
  },
  {
   "cell_type": "code",
   "execution_count": 12,
   "metadata": {},
   "outputs": [],
   "source": [
    "carFile = 'Datasets/CarEvaluation/car.data'\n",
    "\n",
    "carData, carLabel = readData(carFile)\n",
    "df = pd.DataFrame(carData)\n",
    "df = df.apply(preprocessing.LabelEncoder().fit_transform)\n",
    "carFeatures = df.values.tolist()\n",
    "carLabels = [car[-1] for car in carFeatures] "
   ]
  },
  {
   "cell_type": "code",
   "execution_count": 13,
   "metadata": {},
   "outputs": [
    {
     "name": "stdout",
     "output_type": "stream",
     "text": [
      "********************\n",
      "Scores: [62.2093023255814, 62.7906976744186, 61.627906976744185, 63.372093023255815, 63.372093023255815, 70.34883720930233, 57.55813953488372, 64.53488372093024, 69.18604651162791, 55.23255813953488]\n",
      "********************\n",
      "\n",
      "Maximum Accuracy: 70.348837%\n",
      "\n",
      "Mean Accuracy: 63.023%\n"
     ]
    }
   ],
   "source": [
    "kfcv.kFCVEvaluate(carFeatures, 10, 3, 'euclidean')"
   ]
  },
  {
   "cell_type": "code",
   "execution_count": 14,
   "metadata": {},
   "outputs": [
    {
     "name": "stdout",
     "output_type": "stream",
     "text": [
      "********************\n",
      "Scores: [87.20930232558139, 90.11627906976744, 90.11627906976744, 86.04651162790698, 87.79069767441861, 90.11627906976744, 89.53488372093024, 87.79069767441861, 87.79069767441861, 89.53488372093024]\n",
      "********************\n",
      "\n",
      "Maximum Accuracy: 90.116279%\n",
      "\n",
      "Mean Accuracy: 88.605%\n"
     ]
    }
   ],
   "source": [
    "kfcv.kFCVEvaluate(carFeatures, 10, 3, 'manhattan')"
   ]
  },
  {
   "cell_type": "code",
   "execution_count": 15,
   "metadata": {},
   "outputs": [
    {
     "name": "stdout",
     "output_type": "stream",
     "text": [
      "********************\n",
      "Scores: [83.72093023255815, 80.23255813953489, 84.30232558139535, 90.11627906976744, 84.88372093023256, 86.04651162790698, 81.97674418604652, 87.20930232558139, 87.20930232558139, 83.72093023255815]\n",
      "********************\n",
      "\n",
      "Maximum Accuracy: 90.116279%\n",
      "\n",
      "Mean Accuracy: 84.942%\n"
     ]
    }
   ],
   "source": [
    "kfcv.kFCVEvaluate(carFeatures, 10, 3, 'hamming')"
   ]
  },
  {
   "cell_type": "markdown",
   "metadata": {},
   "source": [
    "### Breast Cancer Data"
   ]
  },
  {
   "cell_type": "code",
   "execution_count": 16,
   "metadata": {},
   "outputs": [],
   "source": [
    "cancerFile = 'Datasets/BreastCancer/breast-cancer.data'\n",
    "\n",
    "cancerData, cancerLabel = readData(cancerFile)\n",
    "cdf = pd.DataFrame(cancerData)\n",
    "cdf = cdf.apply(preprocessing.LabelEncoder().fit_transform)\n",
    "cancerFeatures = cdf.values.tolist()\n",
    "cancerLabels = [cancer[-1] for cancer in cancerFeatures] "
   ]
  },
  {
   "cell_type": "code",
   "execution_count": 17,
   "metadata": {},
   "outputs": [
    {
     "name": "stdout",
     "output_type": "stream",
     "text": [
      "********************\n",
      "Scores: [67.85714285714286, 89.28571428571429, 78.57142857142857, 60.71428571428571, 53.57142857142857, 78.57142857142857, 78.57142857142857, 60.71428571428571, 75.0, 85.71428571428571]\n",
      "********************\n",
      "\n",
      "Maximum Accuracy: 89.285714%\n",
      "\n",
      "Mean Accuracy: 72.857%\n"
     ]
    }
   ],
   "source": [
    "kfcv.kFCVEvaluate(cancerFeatures, 10, 3, 'euclidean')"
   ]
  },
  {
   "cell_type": "code",
   "execution_count": 18,
   "metadata": {},
   "outputs": [
    {
     "name": "stdout",
     "output_type": "stream",
     "text": [
      "********************\n",
      "Scores: [78.57142857142857, 60.71428571428571, 78.57142857142857, 78.57142857142857, 53.57142857142857, 85.71428571428571, 75.0, 64.28571428571429, 75.0, 64.28571428571429]\n",
      "********************\n",
      "\n",
      "Maximum Accuracy: 85.714286%\n",
      "\n",
      "Mean Accuracy: 71.429%\n"
     ]
    }
   ],
   "source": [
    "kfcv.kFCVEvaluate(cancerFeatures, 10, 3, 'manhattan')"
   ]
  },
  {
   "cell_type": "code",
   "execution_count": 19,
   "metadata": {},
   "outputs": [
    {
     "name": "stdout",
     "output_type": "stream",
     "text": [
      "********************\n",
      "Scores: [71.42857142857143, 71.42857142857143, 85.71428571428571, 67.85714285714286, 64.28571428571429, 78.57142857142857, 57.14285714285714, 57.14285714285714, 89.28571428571429, 78.57142857142857]\n",
      "********************\n",
      "\n",
      "Maximum Accuracy: 89.285714%\n",
      "\n",
      "Mean Accuracy: 72.143%\n"
     ]
    }
   ],
   "source": [
    "kfcv.kFCVEvaluate(cancerFeatures, 10, 3, 'hamming')"
   ]
  },
  {
   "cell_type": "code",
   "execution_count": null,
   "metadata": {},
   "outputs": [],
   "source": []
  }
 ],
 "metadata": {
  "kernelspec": {
   "display_name": "Python 3 (ipykernel)",
   "language": "python",
   "name": "python3"
  },
  "language_info": {
   "codemirror_mode": {
    "name": "ipython",
    "version": 3
   },
   "file_extension": ".py",
   "mimetype": "text/x-python",
   "name": "python",
   "nbconvert_exporter": "python",
   "pygments_lexer": "ipython3",
   "version": "3.9.6"
  }
 },
 "nbformat": 4,
 "nbformat_minor": 4
}
