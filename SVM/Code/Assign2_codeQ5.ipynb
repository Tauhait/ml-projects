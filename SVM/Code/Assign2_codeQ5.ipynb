{
 "cells": [
  {
   "cell_type": "code",
   "execution_count": 4,
   "source": [
    "import numpy as np\n",
    "import pandas as pd\n",
    "from sklearn import svm\n",
    "from sklearn import metrics"
   ],
   "outputs": [],
   "metadata": {}
  },
  {
   "cell_type": "code",
   "execution_count": 5,
   "source": [
    "def text_to_numpy(path):\n",
    "    data = []\n",
    "    with open(path) as file:\n",
    "        for line in file.readlines():\n",
    "            data.append(list(map(float, line.rstrip('\\n').split())))\n",
    "    \n",
    "    return np.array(data)"
   ],
   "outputs": [],
   "metadata": {}
  },
  {
   "cell_type": "code",
   "execution_count": 6,
   "source": [
    "def load_data():\n",
    "    train_x = pd.DataFrame(text_to_numpy(\"gisette_train.data\"))\n",
    "    train_x = train_x.fillna(0)    \n",
    "    train_Y = pd.DataFrame(text_to_numpy(\"gisette_train.labels\"))\n",
    "    \n",
    "    test_x = pd.DataFrame(text_to_numpy(\"gisette_valid.data\"))\n",
    "    test_x = test_x.fillna(0)\n",
    "    test_Y = pd.DataFrame(text_to_numpy(\"gisette_valid.labels\"))\n",
    "    \n",
    "    return train_x, train_Y, test_x, test_Y "
   ],
   "outputs": [],
   "metadata": {}
  },
  {
   "cell_type": "code",
   "execution_count": 1,
   "source": [
    "def classify(train_x, train_Y, test_x, test_Y, k, d = 3, coef = 0.0, g = 'scale'):\n",
    "    clf = svm.SVC(kernel = k, decision_function_shape = 'ovo', gamma = g, degree = d, coef0 = coef)\n",
    "    train_err, test_err, no_suppVec, acc = getMetrics(clf, train_x, train_Y, test_x, test_Y)\n",
    "    \n",
    "    return train_err, test_err, no_suppVec, acc"
   ],
   "outputs": [],
   "metadata": {}
  },
  {
   "cell_type": "code",
   "execution_count": 7,
   "source": [
    "def getMetrics(clf, train_x, train_Y, test_x, test_Y):\n",
    "    train_Y = train_Y.values.reshape(-1)\n",
    "    test_Y = test_Y.values.reshape(-1)\n",
    "    \n",
    "    clf.fit(train_x, train_Y)    \n",
    "    pred = clf.predict(test_x)    \n",
    "    \n",
    "    train_err = 1 - clf.score(train_x, train_Y)\n",
    "    test_err = 1 - clf.score(test_x, test_Y)    \n",
    "    no_suppVec = np.shape(clf.support_)\n",
    "    acc = metrics.accuracy_score(test_Y, pred)\n",
    "    \n",
    "    return train_err, test_err, no_suppVec, acc"
   ],
   "outputs": [],
   "metadata": {}
  },
  {
   "cell_type": "code",
   "execution_count": 8,
   "source": [
    "train_x, train_Y, test_x, test_Y = load_data()"
   ],
   "outputs": [],
   "metadata": {}
  },
  {
   "cell_type": "code",
   "execution_count": 9,
   "source": [
    "def printMetrics(k, train_err, test_err, no_suppVec, acc):\n",
    "    print(\"Kernel = \", k)\n",
    "    print(\"==============================================\")\n",
    "    print(\"%10s|%10s|%10s|%9s|\" % (\"Train_Err\", \"Test_Err\", \"#Supp_Vec\", \"Accuracy\"))\n",
    "    print(\"----------------------------------------------\")\n",
    "    print(\"%10f|%10f|%10d|%10f|\" % (train_err, test_err, no_suppVec, acc))\n",
    "    print(\"==============================================\")"
   ],
   "outputs": [],
   "metadata": {}
  },
  {
   "cell_type": "code",
   "execution_count": 10,
   "source": [
    "train_err, test_err, no_suppVec, acc = classify(train_x, train_Y, test_x, test_Y, 'linear')\n",
    "printMetrics('linear', train_err, test_err, no_suppVec[0], acc)"
   ],
   "outputs": [
    {
     "output_type": "stream",
     "name": "stdout",
     "text": [
      "Kernel =  linear\n",
      "==============================================\n",
      " Train_Err|  Test_Err| #Supp_Vec| Accuracy|\n",
      "----------------------------------------------\n",
      "  0.000000|  0.024000|      1084|  0.976000|\n",
      "==============================================\n"
     ]
    }
   ],
   "metadata": {}
  },
  {
   "cell_type": "code",
   "execution_count": 11,
   "source": [
    "train_err, test_err, no_suppVec, acc = classify(train_x, train_Y, test_x, test_Y, 'poly', d = 2, coef = 1)\n",
    "printMetrics('poly', train_err, test_err, no_suppVec[0], acc)"
   ],
   "outputs": [
    {
     "output_type": "stream",
     "name": "stdout",
     "text": [
      "Kernel =  poly\n",
      "==============================================\n",
      " Train_Err|  Test_Err| #Supp_Vec| Accuracy|\n",
      "----------------------------------------------\n",
      "  0.000500|  0.020000|      1332|  0.980000|\n",
      "==============================================\n"
     ]
    }
   ],
   "metadata": {}
  },
  {
   "cell_type": "code",
   "execution_count": 12,
   "source": [
    "train_err, test_err, no_suppVec, acc = classify(train_x, train_Y, test_x, test_Y, 'rbf', g = 0.001)\n",
    "printMetrics('rbf', train_err, test_err, no_suppVec[0], acc)"
   ],
   "outputs": [
    {
     "output_type": "stream",
     "name": "stdout",
     "text": [
      "Kernel =  rbf\n",
      "==============================================\n",
      " Train_Err|  Test_Err| #Supp_Vec| Accuracy|\n",
      "----------------------------------------------\n",
      "  0.000000|  0.500000|      6000|  0.500000|\n",
      "==============================================\n"
     ]
    }
   ],
   "metadata": {}
  },
  {
   "cell_type": "markdown",
   "source": [
    "RBF yields lower training error than Polynomial kernel."
   ],
   "metadata": {}
  },
  {
   "cell_type": "code",
   "execution_count": null,
   "source": [],
   "outputs": [],
   "metadata": {}
  }
 ],
 "metadata": {
  "kernelspec": {
   "name": "python3",
   "display_name": "Python 3.9.6 64-bit ('base': conda)"
  },
  "language_info": {
   "codemirror_mode": {
    "name": "ipython",
    "version": 3
   },
   "file_extension": ".py",
   "mimetype": "text/x-python",
   "name": "python",
   "nbconvert_exporter": "python",
   "pygments_lexer": "ipython3",
   "version": "3.9.6"
  },
  "interpreter": {
   "hash": "95ec9ec1504d83f612128e0fb229072f90bbb4cb09d9d5d93b5dd26e0ca2cfd1"
  }
 },
 "nbformat": 4,
 "nbformat_minor": 5
}