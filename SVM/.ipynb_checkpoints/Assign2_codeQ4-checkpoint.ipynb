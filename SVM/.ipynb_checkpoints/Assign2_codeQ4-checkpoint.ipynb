{
 "cells": [
  {
   "cell_type": "code",
   "execution_count": 1,
   "id": "c1457485",
   "metadata": {},
   "outputs": [],
   "source": [
    "import numpy as np\n",
    "import pandas as pd\n",
    "from sklearn import svm\n",
    "from sklearn import metrics"
   ]
  },
  {
   "cell_type": "code",
   "execution_count": 2,
   "id": "b101d753",
   "metadata": {},
   "outputs": [],
   "source": [
    "def text_to_numpy(path):\n",
    "    data = []\n",
    "    with open(path) as file:\n",
    "        for line in file.readlines():\n",
    "            data.append(list(map(float, line.rstrip('\\n').split())))\n",
    "    \n",
    "    return np.array(data)"
   ]
  },
  {
   "cell_type": "code",
   "execution_count": 3,
   "id": "c6f4453a",
   "metadata": {},
   "outputs": [],
   "source": [
    "def split_label_features(data):\n",
    "    Y = data[:, 0] \n",
    "    x = data[:, 1:]\n",
    "    return Y, x"
   ]
  },
  {
   "cell_type": "code",
   "execution_count": 4,
   "id": "8f4eb9b1",
   "metadata": {},
   "outputs": [],
   "source": [
    "def load_data():\n",
    "    train = text_to_numpy(\"features.train.txt\")\n",
    "    test = text_to_numpy(\"features.test.txt\")\n",
    "    \n",
    "    train_Y, train_x = split_label_features(train)\n",
    "    test_Y, test_x = split_label_features(test)\n",
    "    \n",
    "    return train_Y, train_x, test_Y, test_x"
   ]
  },
  {
   "cell_type": "code",
   "execution_count": 5,
   "id": "21227524",
   "metadata": {},
   "outputs": [],
   "source": [
    "def get_data_labels_1_5(Y, x, cl1, cl2):\n",
    "    idx_cl1 = np.where(Y == cl1)[0]\n",
    "    idx_cl2 = np.where(Y == cl2)[0]\n",
    "    indices = np.sort(np.concatenate((idx_cl1, idx_cl2)))\n",
    "    new_Y = np.take(Y, indices).reshape(-1)    \n",
    "    new_x = np.take(x, indices, axis=0).reshape(-1,2)\n",
    "    \n",
    "    np.put(new_Y, np.where(new_Y == cl1)[0], [1])\n",
    "    np.put(new_Y, np.where(new_Y == cl2)[0], [-1])\n",
    "    \n",
    "    return new_Y, new_x\n",
    "    "
   ]
  },
  {
   "cell_type": "code",
   "execution_count": 6,
   "id": "11ea7df4",
   "metadata": {},
   "outputs": [],
   "source": [
    "def get_train_test_features():\n",
    "    train_Y, train_x, test_Y, test_x = load_data()\n",
    "    \n",
    "    train_Y, train_x = get_data_labels_1_5(train_Y, train_x, 1, 5)\n",
    "    test_Y, test_x = get_data_labels_1_5(test_Y, test_x, 1, 5)\n",
    "    \n",
    "    return train_x, train_Y, test_x, test_Y"
   ]
  },
  {
   "cell_type": "code",
   "execution_count": 7,
   "id": "719f4fab",
   "metadata": {},
   "outputs": [],
   "source": [
    "def NuSVM_on_limited_samples(samples, train_x, train_Y, test_x, test_Y):\n",
    "    \n",
    "    no_suppVec, acc = 0.0, 0.0\n",
    "    nu_ = 0.5\n",
    "    \n",
    "    if samples != 0:\n",
    "        sampled_train_x = train_x[:samples,]\n",
    "        sampled_train_Y = train_Y[:samples,]\n",
    "        \n",
    "        if samples == 50:\n",
    "            nu_ = 0.1\n",
    "        elif samples == 100:\n",
    "            nu_ = 0.2\n",
    "        elif samples == 200:\n",
    "            nu_ = 0.3\n",
    "        elif samples == 800:\n",
    "            nu_ = 0.4\n",
    "        \n",
    "        no_suppVec, acc = classify_SVM_OvO_linear(sampled_train_x, sampled_train_Y, test_x, test_Y, nu_)\n",
    "    \n",
    "    else:\n",
    "        \n",
    "        no_suppVec, acc = classify_SVM_OvO_linear(train_x, train_Y, test_x, test_Y, nu_)\n",
    "    \n",
    "    return no_suppVec, acc"
   ]
  },
  {
   "cell_type": "code",
   "execution_count": 8,
   "id": "c8c70783",
   "metadata": {},
   "outputs": [],
   "source": [
    "def classify_SVM_OvO_linear(train_x, train_Y, test_x, test_Y, nu_):\n",
    "    \n",
    "    classifier = svm.NuSVC(nu = nu_, kernel = 'linear', decision_function_shape = 'ovo')\n",
    "    _, _, no_suppVec, acc = classify(classifier, train_x, train_Y, test_x, test_Y)    \n",
    "    \n",
    "    return no_suppVec, acc"
   ]
  },
  {
   "cell_type": "code",
   "execution_count": 9,
   "id": "01935cc5",
   "metadata": {},
   "outputs": [],
   "source": [
    "def classify_SVM_OvO_polynomial(train_x, train_Y, test_x, test_Y, q, c):\n",
    "    \n",
    "    classifier = svm.SVC(C = c, kernel = 'poly', degree = q, gamma = 'scale', decision_function_shape = 'ovo')\n",
    "    train_err, test_err, no_suppVec, acc = classify(classifier, train_x, train_Y, test_x, test_Y)    \n",
    "    \n",
    "    return train_err, test_err, no_suppVec, acc"
   ]
  },
  {
   "cell_type": "code",
   "execution_count": 10,
   "id": "336772c8",
   "metadata": {},
   "outputs": [],
   "source": [
    "def classify_SVM_rbf(train_X, train_Y, test_X, test_Y, c):\n",
    "    classifier = svm.SVC(C = c, kernel = 'rbf', gamma = 'scale')\n",
    "    train_err, test_err, _, _ = classify(classifier, train_x, train_Y, test_x, test_Y)    \n",
    "    return train_err, test_err"
   ]
  },
  {
   "cell_type": "code",
   "execution_count": 11,
   "id": "2a2e2b02",
   "metadata": {},
   "outputs": [],
   "source": [
    "def classify(clf, train_x, train_Y, test_x, test_Y):\n",
    "    train_Y = train_Y.reshape(-1)\n",
    "    test_Y = test_Y.reshape(-1)\n",
    "    \n",
    "    clf.fit(train_x, train_Y)\n",
    "    \n",
    "    pred = clf.predict(test_x)\n",
    "    \n",
    "    train_err = 1 - clf.score(train_x, train_Y)\n",
    "    test_err = 1 - clf.score(test_x, test_Y)\n",
    "    \n",
    "    no_suppVec = np.shape(clf.support_)\n",
    "    acc = metrics.accuracy_score(test_Y, pred)\n",
    "    \n",
    "    return train_err, test_err, no_suppVec, acc"
   ]
  },
  {
   "cell_type": "code",
   "execution_count": 12,
   "id": "294d1a0a",
   "metadata": {},
   "outputs": [
    {
     "name": "stdout",
     "output_type": "stream",
     "text": [
      "===========================================================\n",
      "Solution - Question 4.a\n",
      "-----------------------------------------------------------\n",
      "#Support Vectors - 782  Accuracy - 0.983491\n",
      "===========================================================\n"
     ]
    }
   ],
   "source": [
    "\"\"\"Question 4.a\"\"\"\n",
    "train_x, train_Y, test_x, test_Y = get_train_test_features()\n",
    "no_suppVec, acc = NuSVM_on_limited_samples(0, train_x, train_Y, test_x, test_Y)\n",
    "print(\"===========================================================\")\n",
    "print(\"Solution - Question 4.a\")\n",
    "print(\"-----------------------------------------------------------\")\n",
    "print(\"#Support Vectors - %-4d Accuracy - %-7f\" % (no_suppVec[0], acc))\n",
    "print(\"===========================================================\")"
   ]
  },
  {
   "cell_type": "code",
   "execution_count": 13,
   "id": "dfec8fcc",
   "metadata": {},
   "outputs": [
    {
     "name": "stdout",
     "output_type": "stream",
     "text": [
      "===========================================================\n",
      "Solution - Question 4.b\n",
      "-----------------------------------------------------------\n",
      "#Samples -   50 #Support Vectors -    6 Accuracy - 0.981132\n",
      "#Samples -  100 #Support Vectors -   20 Accuracy - 0.981132\n",
      "#Samples -  200 #Support Vectors -   60 Accuracy - 0.981132\n",
      "#Samples -  800 #Support Vectors -  320 Accuracy - 0.981132\n",
      "===========================================================\n"
     ]
    }
   ],
   "source": [
    "\"\"\"Question 4.b\"\"\"\n",
    "samples_list = [50, 100, 200, 800]\n",
    "\n",
    "train_x, train_Y, test_x, test_Y = get_train_test_features()\n",
    "train_Y = train_Y.reshape(-1,1)\n",
    "test_Y = test_Y.reshape(-1,1)\n",
    "print(\"===========================================================\")\n",
    "print(\"Solution - Question 4.b\")\n",
    "print(\"-----------------------------------------------------------\")\n",
    "for n in samples_list:\n",
    "    no_suppVec, acc = NuSVM_on_limited_samples(n, train_x, train_Y, test_x, test_Y)\n",
    "    print(\"#Samples - %4d #Support Vectors - %4d Accuracy - %7f\" % ( n, no_suppVec[0], acc))\n",
    "print(\"===========================================================\")"
   ]
  },
  {
   "cell_type": "code",
   "execution_count": 14,
   "id": "d5193d21",
   "metadata": {},
   "outputs": [
    {
     "name": "stdout",
     "output_type": "stream",
     "text": [
      "===========================================================\n",
      "Solution - Question 4.c\n",
      "-----------------------------------------------------------\n",
      "           |Train_Err |Test_Err  |#Supp_Vec |Accuracy |\n",
      "-----------------------------------------------------------\n",
      "Q = 2 \n",
      "-----------------------------------------------------------\n",
      "C = 0.0001 | 0.340807 | 0.346698 |     1112 | 0.653302|\n",
      "C = 0.0010 | 0.024984 | 0.035377 |      558 | 0.964623|\n",
      "C = 0.0100 | 0.008328 | 0.021226 |      164 | 0.978774|\n",
      "C = 1.0000 | 0.004484 | 0.018868 |       30 | 0.981132|\n",
      "-----------------------------------------------------------\n",
      "           |Train_Err |Test_Err  |#Supp_Vec |Accuracy |\n",
      "-----------------------------------------------------------\n",
      "Q = 5 \n",
      "-----------------------------------------------------------\n",
      "C = 0.0001 | 0.051890 | 0.075472 |      374 | 0.924528|\n",
      "C = 0.0010 | 0.021140 | 0.030660 |      158 | 0.969340|\n",
      "C = 0.0100 | 0.008328 | 0.021226 |       68 | 0.978774|\n",
      "C = 1.0000 | 0.004484 | 0.016509 |       26 | 0.983491|\n",
      "-----------------------------------------------------------\n",
      "===========================================================\n"
     ]
    }
   ],
   "source": [
    "\"\"\"Question 4.c\"\"\"\n",
    "Q = [2, 5]\n",
    "C = [0.0001, 0.001, 0.01, 1]\n",
    "print(\"===========================================================\")\n",
    "print(\"Solution - Question 4.c\")\n",
    "print(\"-----------------------------------------------------------\")\n",
    "for q in Q:\n",
    "    print(\"%11s|%-10s|%-10s|%-10s|%-9s|\" % (\" \", \"Train_Err\", \"Test_Err\", \"#Supp_Vec\", \"Accuracy\"))\n",
    "    print(\"-----------------------------------------------------------\")\n",
    "    print(\"Q = %-2d\" % (q))\n",
    "    print(\"-----------------------------------------------------------\")\n",
    "    for c in C:\n",
    "        train_err, test_err, no_suppVec, acc = classify_SVM_OvO_polynomial(train_x, train_Y, test_x, test_Y, q, c)\n",
    "        print(\"C = %-3.4f | %8f | %8f | %8d | %8f|\" % (c, train_err, test_err, no_suppVec[0], acc))\n",
    "    print(\"-----------------------------------------------------------\")\n",
    "    \n",
    "print(\"===========================================================\")"
   ]
  },
  {
   "cell_type": "markdown",
   "id": "686e639a",
   "metadata": {},
   "source": [
    "On comparing the results from the above table, we comment TRUE/FALSE:\n",
    "NOTE: Here I assume kernel coefficient gamma = 'scale' - \n",
    "\n",
    "4.c) \n",
    "\n",
    "i. When C = 0.0001, training error is higher at Q = 5\n",
    "\n",
    "Ans: FALSE\n",
    "\n",
    "ii. When C = 0.001, the number of support vectors is lower at Q = 5\n",
    "\n",
    "Ans: TRUE\n",
    "\n",
    "iii. When C = 0.01, training error is higher at Q = 5\n",
    "\n",
    "Ans: FALSE\n",
    "\n",
    "iv. When C = 1, test error is lower at Q = 5\n",
    "\n",
    "Ans: TRUE"
   ]
  },
  {
   "cell_type": "code",
   "execution_count": 15,
   "id": "b5b437bf",
   "metadata": {},
   "outputs": [
    {
     "name": "stdout",
     "output_type": "stream",
     "text": [
      "=====================================\n",
      "Solution - Question 4.d\n",
      "-------------------------------------\n",
      "              |Train_Err |Test_Err  |\n",
      "-------------------------------------\n",
      "C = 0.01      |  0.005125|  0.016509|\n",
      "C = 1.00      |  0.004484|  0.021226|\n",
      "C = 100.00    |  0.003203|  0.018868|\n",
      "C = 10000.00  |  0.002562|  0.018868|\n",
      "C = 1000000.00|  0.002562|  0.023585|\n",
      "======================================\n"
     ]
    }
   ],
   "source": [
    "\"\"\"Question 4.d\"\"\"\n",
    "print(\"=====================================\")\n",
    "print(\"Solution - Question 4.d\")\n",
    "print(\"-------------------------------------\")\n",
    "print(\"%14s|%-10s|%-10s|\" % (\" \", \"Train_Err\", \"Test_Err\"))\n",
    "print(\"-------------------------------------\")\n",
    "for i in range(-2, 8, 2):\n",
    "    c = 1 * pow(10, i)\n",
    "    train_err, test_err = classify_SVM_rbf(train_x, train_Y, test_x, test_Y, c)\n",
    "    print(\"C = %-10.2f|%10f|%10f|\" % (c, train_err, test_err))\n",
    "print(\"======================================\")"
   ]
  },
  {
   "cell_type": "markdown",
   "id": "15b05343",
   "metadata": {},
   "source": [
    "We can see from the result above, that - \n",
    "\n",
    "C = 10000.00 or 1000000.00 results in lowest training error value of 0.002562.\n",
    "\n",
    "C = 0.01 results in lowest test error value of 0.016509.\n",
    "\n",
    "All error values corresponding for all C values are shown in the above table.\n"
   ]
  },
  {
   "cell_type": "code",
   "execution_count": null,
   "id": "32b9f072",
   "metadata": {},
   "outputs": [],
   "source": []
  }
 ],
 "metadata": {
  "interpreter": {
   "hash": "95ec9ec1504d83f612128e0fb229072f90bbb4cb09d9d5d93b5dd26e0ca2cfd1"
  },
  "kernelspec": {
   "display_name": "Python 3 (ipykernel)",
   "language": "python",
   "name": "python3"
  },
  "language_info": {
   "codemirror_mode": {
    "name": "ipython",
    "version": 3
   },
   "file_extension": ".py",
   "mimetype": "text/x-python",
   "name": "python",
   "nbconvert_exporter": "python",
   "pygments_lexer": "ipython3",
   "version": "3.9.6"
  }
 },
 "nbformat": 4,
 "nbformat_minor": 5
}
